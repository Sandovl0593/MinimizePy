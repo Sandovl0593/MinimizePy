{
  "cells": [
    {
      "cell_type": "markdown",
      "metadata": {
        "id": "ko659ugVYNOj"
      },
      "source": [
        "# **Ejercicios de PC conjuntas**"
      ]
    },
    {
      "cell_type": "markdown",
      "metadata": {
        "id": "Pm4cFelCOGDy"
      },
      "source": [
        "**Billetes y lugares turisticos del Perú**"
      ]
    },
    {
      "cell_type": "code",
      "execution_count": null,
      "metadata": {
        "colab": {
          "base_uri": "https://localhost:8080/"
        },
        "id": "zY_raQ0SPoYC",
        "outputId": "df415193-7288-4a88-c934-97c2b5321f89"
      },
      "outputs": [],
      "source": [
        "valor = int(input(\"Denominación: \"))\n",
        "\n",
        "n = [1, 2, 5, 10, 20, 50, 100, 200]\n",
        "c = \"Es un billete\"\n",
        "if valor == n[0] or valor == n[1] or valor == n[2]:\n",
        "    print(\"Es una moneda\")\n",
        "elif valor == n[3]:\n",
        "    print(f\"{c} y aparece Machu Picchu\")\n",
        "elif valor == n[4]:\n",
        "    print(f\"{c} y aparece la Ciudadela de Chan Chan\")\n",
        "elif valor == n[5]:\n",
        "    print(f\"{c} y aparece Templo de Chavin de Huantar\")\n",
        "elif valor == n[6]:\n",
        "    print(f\"{c} y aparece el sitio Arqueol´ogico del Gran Pajaten\")\n",
        "elif valor == n[7]:\n",
        "    print(f\"{c} y aparece la Ciudad Sagrada de Caral\")\n",
        "else:\n",
        "    print(\"La denominación no es una maravilla del mundo\")"
      ]
    },
    {
      "cell_type": "markdown",
      "metadata": {
        "id": "5IoeWhBMruhI"
      },
      "source": [
        "**De grados Celsius a grados Rakine y Kelvin**"
      ]
    },
    {
      "cell_type": "code",
      "execution_count": null,
      "metadata": {
        "id": "G3rnoU2-rvsH"
      },
      "outputs": [],
      "source": [
        "B = float(input(\"Valor limite: \"))\n",
        "while B < 50.0:\n",
        "    B = float(input(\"No válido, valor limite: \"))\n",
        "print()\n",
        "\n",
        "celsius = 0.0\n",
        "print(\"{:<20} {:}\".format(\"Centigrados\", \"Rankine\"))\n",
        "while celsius <= B:\n",
        "    rankine = celsius*1.8 + 491.67\n",
        "    rankine = round(rankine, 3)\n",
        "    print(\"{:>11} {:>16}\".format(f\"{celsius}{0}{0}\", f\"{rankine}{0}\"))\n",
        "    celsius += 3.0\n",
        "print()\n",
        "\n",
        "celsius = 0.0\n",
        "print(\"{:<20} {:<40}\".format(\"Centigrados\", \"Kelvin\"))\n",
        "while celsius <= B:\n",
        "    kelvin = celsius + 273.15\n",
        "    print(\"{:>11} {:>16}\".format(f\"{celsius}{0}{0}\", f\"{kelvin}{0}\"))\n",
        "    celsius += 5.0\n",
        "print(\"Chao.\")"
      ]
    },
    {
      "cell_type": "markdown",
      "metadata": {
        "id": "sK-6-hTbxuOy"
      },
      "source": [
        "**Porcentajes de nacimiento por estacion del año**"
      ]
    },
    {
      "cell_type": "code",
      "execution_count": null,
      "metadata": {
        "id": "gtQWrhmpyIA0"
      },
      "outputs": [],
      "source": [
        "cant = int(input(\"Cantidad de alumnos [6, 40]: \"))\n",
        "\n",
        "while cant > 41 or cant < 5:\n",
        "    cant = int(input(\"Cantidad de alumnos [6, 40]: \"))\n",
        "\n",
        "verano, otoño, invierno, primav = 0, 0, 0, 0\n",
        "for i in range(cant):\n",
        "    print(\"Fecha de nacimiento\")\n",
        "    dia = int(input(\"Dia : \"))\n",
        "    mes = int(input(\"Mes : \"))\n",
        "    if mes == 1 or mes == 2 or (mes ==12 and dia >= 21) or (mes == 3 and dia <= 20):\n",
        "        verano += 1\n",
        "    elif mes == 4 or (mes == 3 and dia >=21) or mes == 5 or (mes == 6 and dia <= 21):\n",
        "        otoño += 1\n",
        "    elif mes == 7 or mes == 8 or mes == 9 or (mes ==6 and dia >= 22):\n",
        "        invierno += 1\n",
        "    else:\n",
        "        primav += 1\n",
        "\n",
        "print()\n",
        "print(\"Reporte\\n\")\n",
        "porc_ver = round(100*(verano/cant), 1)\n",
        "print(f\"Nacidos en verano: {porc_ver}{0}{0}\")\n",
        "\n",
        "porc_ot = round(100*(otoño/cant), 1)\n",
        "print(f\"Nacidos en otoño: {porc_ot}{0}{0}\")\n",
        "\n",
        "porc_in = round(100*(invierno/cant), 1)\n",
        "print(f\"Nacidos en invierno: {porc_in}{0}{0}\")\n",
        "\n",
        "porc_prim = round(100*(primav/cant), 1)\n",
        "print(f\"Nacidos en primavera: {porc_prim}{0}{0}\")"
      ]
    },
    {
      "cell_type": "markdown",
      "metadata": {
        "id": "8TH9jgHT0D8s"
      },
      "source": [
        "**Filas de digitos en descendente**"
      ]
    },
    {
      "cell_type": "code",
      "execution_count": null,
      "metadata": {
        "colab": {
          "base_uri": "https://localhost:8080/"
        },
        "id": "ioFJU3CN3-2s",
        "outputId": "f1d08a37-b237-41e2-d2fb-27d0d45f0465"
      },
      "outputs": [],
      "source": [
        "n = int(input(\"Filas: \"))\n",
        "\n",
        "for i in range(0, n):\n",
        "    a = \"0\"*(n-1-i)\n",
        "    for j in range(n, (n-1-i), -1):\n",
        "        print(f\"{j}\", end=\"\")\n",
        "    print(a)"
      ]
    },
    {
      "cell_type": "markdown",
      "metadata": {
        "id": "v7uriOzRE1UU"
      },
      "source": [
        "**Área del triangulo**"
      ]
    },
    {
      "cell_type": "code",
      "execution_count": null,
      "metadata": {
        "colab": {
          "base_uri": "https://localhost:8080/"
        },
        "id": "DeVlV3bSFslN",
        "outputId": "289859ab-e1c9-4255-a2f3-5d8ab118ebbb"
      },
      "outputs": [],
      "source": [
        "L1 = int(input(\"Lado 1: \"))\n",
        "L2 = int(input(\"Lado 2: \"))\n",
        "L3 = int(input(\"Lado 3: \"))\n",
        "\n",
        "import math\n",
        "if L1 + L2 > L3 and L2 + L3 > L1 and L1 + L3 > L2:\n",
        "    if L1 == L2 or L1 == L3 or L1 == L3:\n",
        "        if L1 == L2 == L3:\n",
        "            print(\"Un triángulo equilátero\") \n",
        "        else:\n",
        "            print(\"Un triángulo isósceles\")\n",
        "    else:\n",
        "        print(\"Un triángulo escaleno\")\n",
        "    s = (L1 + L2 + L3)/2\n",
        "    area = math.sqrt(s*(s-L1)*(s-L2)*(s-L3))\n",
        "    print(\"El área es:\", round(area, 3))\n",
        "else:\n",
        "    print(\"No se puede formar un triángulo\")"
      ]
    },
    {
      "cell_type": "markdown",
      "metadata": {
        "id": "WmItcVdXXUpl"
      },
      "source": [
        "**Número de clientes en veterinaria**"
      ]
    },
    {
      "cell_type": "code",
      "execution_count": null,
      "metadata": {
        "id": "SEP-kfY_XmBX"
      },
      "outputs": [],
      "source": [
        "N = int(input(\"Número de perritos: \"))\n",
        "\n",
        "print(\"Datos de cada uno: \")\n",
        "for i in range(1, N+1):\n",
        "    name = input(\"-- Nombre del perro: \")\n",
        "    edad = int(input(\"-- Edad canina: \"))\n",
        "    while N < 0:\n",
        "        edad = print(\"-- Edad canina: \")\n",
        "    if edad == 2:\n",
        "        edad_c = 10.5\n",
        "    else:\n",
        "        edad_c = edad * 4\n",
        "    print(f\"La edad de {name} es de {edad_c} años. \\n\")\n",
        "    "
      ]
    },
    {
      "cell_type": "markdown",
      "metadata": {
        "id": "vBvdph7ycBUq"
      },
      "source": [
        "**Presión sistólica en la poblacion Gorinki**"
      ]
    },
    {
      "cell_type": "code",
      "execution_count": null,
      "metadata": {
        "id": "a8ahvDv9cOvn"
      },
      "outputs": [],
      "source": [
        "gor = int(input(\"Número de gorinkis: \"))\n",
        "while gor < 3:\n",
        "    gor = int(input(\"Número de gorinkis: \"))\n",
        "print()\n",
        "\n",
        "for i in range(1, gor+1):\n",
        "    preS = 0\n",
        "    for j in range(1, 6):\n",
        "        pres = int(input(f\"Presion sistolica {j}: \"))\n",
        "        preS += pres\n",
        "    prom = preS/5\n",
        "    if prom > 130:\n",
        "        print(\"Ud. es hipertenso, el promedio de su presión sistólica es:\", prom, \"\\n\")\n",
        "    else:\n",
        "        print(\"Ud. NO es hipertenso, el promedio de su presión sistólica es:\", prom, \"\\n\")"
      ]
    },
    {
      "cell_type": "markdown",
      "metadata": {
        "id": "R3SL6Trgb8yz"
      },
      "source": [
        "**Palindromos y capicúas**"
      ]
    },
    {
      "cell_type": "code",
      "execution_count": 5,
      "metadata": {
        "id": "jaVui5AJb9Qw"
      },
      "outputs": [
        {
          "name": "stdout",
          "output_type": "stream",
          "text": [
            "-- 4553 no es capicúa\n",
            "3\n"
          ]
        }
      ],
      "source": [
        "a = input(\"Una palabra o numero: \")\n",
        "if a.isnumeric():\n",
        "    dat = \"capicúa\"\n",
        "else:\n",
        "    dat = \"palindromo\"\n",
        "\n",
        "j = 0\n",
        "es_capicua = True\n",
        "n = len(a)\n",
        "while j < n//2:\n",
        "    if a[j] != a[n-1-j]:\n",
        "        es_capicua = False\n",
        "        break\n",
        "    j += 1\n",
        "if es_capicua:\n",
        "    print(f\"-- {a} es {dat}\")\n",
        "else:\n",
        "    print(f\"-- {a} no es {dat}\")\n",
        "print(7//2)"
      ]
    },
    {
      "cell_type": "markdown",
      "metadata": {
        "id": "UtRSz2AcbE-c"
      },
      "source": [
        "**Cadenas de ADN**"
      ]
    },
    {
      "cell_type": "code",
      "execution_count": null,
      "metadata": {
        "id": "pLUiWl5-biqD"
      },
      "outputs": [],
      "source": [
        "adn = input(\"Cadena: \\n\")\n",
        "print()\n",
        "\n",
        "a = len(adn)\n",
        "l = list(adn)\n",
        "for i in range(0, a):\n",
        "    if l[i] == \"c\":\n",
        "        l[i] = \"g\"\n",
        "        adn = \"\".join(l)\n",
        "    elif l[i] == \"a\":\n",
        "        l[i] = \"t\"\n",
        "        adn = \"\".join(l)\n",
        "    elif l[i] == \"g\":\n",
        "        l[i] = \"c\"\n",
        "        adn = \"\".join(l)\n",
        "    elif l[i] == \"t\":\n",
        "        l[i] = \"a\"\n",
        "        adn = \"\".join(l)\n",
        "\n",
        "print(\"ADN clonado:\")\n",
        "print(adn)"
      ]
    },
    {
      "cell_type": "markdown",
      "metadata": {
        "id": "FTZ6dZSKcDx4"
      },
      "source": [
        "**Quitar strings que se repiten al primer string**"
      ]
    },
    {
      "cell_type": "code",
      "execution_count": 6,
      "metadata": {
        "colab": {
          "base_uri": "https://localhost:8080/"
        },
        "id": "uemtCBJAcUxr",
        "outputId": "47ee53d3-aab5-4031-84ab-60573931da57"
      },
      "outputs": [
        {
          "name": "stdout",
          "output_type": "stream",
          "text": [
            "re"
          ]
        }
      ],
      "source": [
        "frase1 = input()\n",
        "frase2 = input()\n",
        "\n",
        "for letra in frase1:\n",
        "    if letra not in frase2:\n",
        "        print(letra, end=\"\")"
      ]
    },
    {
      "cell_type": "markdown",
      "metadata": {
        "id": "UVTDPNoieAle"
      },
      "source": [
        "**LatinBot**"
      ]
    },
    {
      "cell_type": "code",
      "execution_count": null,
      "metadata": {
        "colab": {
          "base_uri": "https://localhost:8080/"
        },
        "id": "miw5n_eBeQ0h",
        "outputId": "7e45699d-abcc-4af8-96b7-fe178eebf969"
      },
      "outputs": [],
      "source": [
        "expre = input().lower()\n",
        "for letra in expre:\n",
        "    if letra != expre[0]:\n",
        "        if letra == expre[1]:\n",
        "            print(letra.upper(), end=\"\")\n",
        "        else:\n",
        "            print(letra, end=\"\")\n",
        "print(expre[0] + \"bot\")"
      ]
    },
    {
      "cell_type": "markdown",
      "metadata": {
        "id": "39jDK6qRfOoN"
      },
      "source": [
        "**Indices de strings**"
      ]
    },
    {
      "cell_type": "code",
      "execution_count": null,
      "metadata": {
        "colab": {
          "base_uri": "https://localhost:8080/"
        },
        "id": "wlbRm8GQgZnf",
        "outputId": "8555403c-a152-4de1-b714-a36e6325f17c"
      },
      "outputs": [
        {
          "name": "stdout",
          "output_type": "stream",
          "text": [
            "soy un poco\n",
            "descabezado y\n",
            "imparablemente falaz\n",
            "Indice n1: 1\n",
            "Indice n2: 5\n",
            "Indice n3: 2\n",
            "Indice n4: 6\n",
            "Indice n5: 5\n",
            "Indice n6: 8\n",
            "oy uscababl"
          ]
        }
      ],
      "source": [
        "string1 = input()\n",
        "string2 = input()\n",
        "string3 = input()\n",
        "n1 = int(input(\"Indice n1: \"))\n",
        "n2 = int(input(\"Indice n2: \"))\n",
        "n3 = int(input(\"Indice n3: \"))\n",
        "n4 = int(input(\"Indice n4: \"))\n",
        "n5 = int(input(\"Indice n5: \"))\n",
        "n6 = int(input(\"Indice n6: \"))\n",
        "\n",
        "for i in range(n1, n2):\n",
        "    print(string1[i], end=\"\")\n",
        "for j in range(n3, n4):\n",
        "    print(string2[j], end=\"\")\n",
        "for k in range(n5, n6):\n",
        "    print(string3[k], end=\"\")"
      ]
    },
    {
      "cell_type": "markdown",
      "metadata": {
        "id": "dPaPevljQP_w"
      },
      "source": [
        "**Palabras con más de 3 vocales**"
      ]
    },
    {
      "cell_type": "code",
      "execution_count": null,
      "metadata": {
        "colab": {
          "base_uri": "https://localhost:8080/"
        },
        "id": "laPnOQnFQZF4",
        "outputId": "fb85c614-ab87-4763-f008-2e838ed75f41"
      },
      "outputs": [
        {
          "name": "stdout",
          "output_type": "stream",
          "text": [
            "Ingresa: 6 javier elevador alberti comienza uber monitor\n",
            "Resultado: 4\n"
          ]
        }
      ],
      "source": [
        "# Un numero de palabras y las palabras a revisar\n",
        "dato = input(\"Ingresa: \")\n",
        "letters = list()\n",
        "for palabra in dato.split(\" \"):\n",
        "    letters.append(palabra)\n",
        "\n",
        "if int(letters[0]) == len(letters)-1:\n",
        "    c = 0\n",
        "    for palabra in letters:\n",
        "        vocales = 0\n",
        "        letras = list()\n",
        "        for letra in palabra:\n",
        "            if letra in \"aeiou\" and letra not in letras:\n",
        "                letras.append(letra)\n",
        "                vocales += 1\n",
        "        if vocales >= 3:\n",
        "            c += 1\n",
        "    print(f\"Resultado: {c}\")\n"
      ]
    },
    {
      "cell_type": "markdown",
      "metadata": {
        "id": "YuelaU2xc3oo"
      },
      "source": [
        "**Clave analizada**"
      ]
    },
    {
      "cell_type": "code",
      "execution_count": null,
      "metadata": {
        "colab": {
          "base_uri": "https://localhost:8080/"
        },
        "id": "SyM0DHIBc298",
        "outputId": "4dfe39a9-1790-45e4-8786-5d78f673b809"
      },
      "outputs": [
        {
          "name": "stdout",
          "output_type": "stream",
          "text": [
            "Ingrese una clave: Uteclandia1$\n",
            "Correcto\n"
          ]
        }
      ],
      "source": [
        "clave = input(\"Ingrese una clave: \")\n",
        "\n",
        "afir = 0\n",
        "if len(clave) >= 8:\n",
        "    afir += 1\n",
        "for letra in clave:\n",
        "    if letra.isdigit():\n",
        "        afir += 1\n",
        "    if letra == letra.upper():\n",
        "        afir += 1\n",
        "    if letra == letra.lower():\n",
        "        afir += 1\n",
        "    if letra in \"$&\":\n",
        "        afir += 1\n",
        "\n",
        "if afir >= 5:\n",
        "    print(\"Correcto\")\n",
        "else:\n",
        "    print(\"Incorrecto\")"
      ]
    },
    {
      "cell_type": "markdown",
      "metadata": {
        "id": "vE3a_12KhDaK"
      },
      "source": [
        "**Número mala onda**"
      ]
    },
    {
      "cell_type": "code",
      "execution_count": null,
      "metadata": {
        "colab": {
          "base_uri": "https://localhost:8080/"
        },
        "id": "rG4sN1y7h2o9",
        "outputId": "b4b6e40e-e121-4b38-f7e4-063343d023da"
      },
      "outputs": [],
      "source": [
        "N = int(input(\"Un numero: \"))\n",
        "\n",
        "i = 1\n",
        "divisores = list()\n",
        "while i < N:\n",
        "    if N % i == 0:\n",
        "        divisores.append(i)\n",
        "    i += 1\n",
        "if 2 not in divisores and 3 not in divisores and 5 not in divisores:\n",
        "    print(f\"{N} no es mala onda\")\n",
        "else:\n",
        "    print(f\"{N} si es mala onda\")"
      ]
    },
    {
      "cell_type": "markdown",
      "metadata": {
        "id": "wMe080LXjcBa"
      },
      "source": [
        "**Suma de cubos, en digitos divisibles de 3**"
      ]
    },
    {
      "cell_type": "code",
      "execution_count": null,
      "metadata": {
        "colab": {
          "base_uri": "https://localhost:8080/"
        },
        "id": "oYrpYkj3kOXr",
        "outputId": "a31bb0f2-17bf-4e32-f298-32490a5e2af4"
      },
      "outputs": [
        {
          "name": "stdout",
          "output_type": "stream",
          "text": [
            "Un numero: 1299069\n",
            "La suma de cubos de 1299069 es: 2412\n",
            "La suma de cubos de 2412 es: 81\n",
            "La suma de cubos de 81 es: 513\n",
            "La suma de cubos de 513 es: 153\n"
          ]
        }
      ],
      "source": [
        "numero = int(input(\"Un numero: \"))\n",
        "while numero % 3 != 0:\n",
        "    numero = int(input(\"No divisible, un numero: \"))\n",
        "\n",
        "while numero != 153:\n",
        "    suma = 0\n",
        "    numero = str(numero)\n",
        "    for digito in numero:\n",
        "        suma += int(digito)**3\n",
        "    print(f\"La suma de cubos de {numero} es: {suma}\")\n",
        "    numero = suma"
      ]
    },
    {
      "cell_type": "markdown",
      "metadata": {
        "id": "Z7CCkVMkncQ5"
      },
      "source": [
        "**Eventos de Erika**"
      ]
    },
    {
      "cell_type": "code",
      "execution_count": null,
      "metadata": {
        "id": "1OIUD-mmniTP"
      },
      "outputs": [],
      "source": [
        "def obtenerDias(dia, mes, año):\n",
        "    dias = 0\n",
        "    meses = [31, 28, 31, 30, 31, 30, 31, 31, 30, 31, 30, 31]\n",
        "    t = año - 2019\n",
        "    if t == 0:\n",
        "        if mes == 1:\n",
        "            if dia >= 17:\n",
        "                dias += (dia -17)\n",
        "            else:\n",
        "                return \"No válido\"\n",
        "        else:\n",
        "            dias += 14\n",
        "            for j in range(2, mes):\n",
        "                dias += meses[j-1]\n",
        "            dias += dia\n",
        "    else:\n",
        "        i = 0\n",
        "        while i < t:\n",
        "            dias += 365\n",
        "            if mes == 1:\n",
        "                if dia >= 17:\n",
        "                    dias += (dia -17)\n",
        "                else:\n",
        "                    dias -= (17 - dia)\n",
        "            else:\n",
        "                dias += 14\n",
        "                for j in range(2, mes):\n",
        "                    dias += meses[j-1]\n",
        "                dias += dia\n",
        "            i += 1\n",
        "    return dias\n",
        "\n",
        "day = int(input(\"Ingrese día: \"))\n",
        "mes = int(input(\"Ingrese mes: \"))\n",
        "year = int(input(\"Ingrese año: \"))\n",
        "\n",
        "dias_falt = obtenerDias(day, mes, year)\n",
        "print(f\"Dias faltantes: {dias_falt}\")"
      ]
    },
    {
      "cell_type": "markdown",
      "metadata": {
        "id": "Fa09wYWowLj9"
      },
      "source": [
        "**Numeros primos y perfectos**"
      ]
    },
    {
      "cell_type": "code",
      "execution_count": null,
      "metadata": {
        "colab": {
          "base_uri": "https://localhost:8080/"
        },
        "id": "MkruclfWwPF7",
        "outputId": "7c854a35-b5c4-4971-b9ba-3664b080838b"
      },
      "outputs": [
        {
          "name": "stdout",
          "output_type": "stream",
          "text": [
            "Ingrese numero minimo: 8\n",
            "Ingrese numero maximo: 10\n",
            "\n",
            "No existen numeros primos ni perfectos.\n"
          ]
        }
      ],
      "source": [
        "def es_primo(num):\n",
        "    cant_div = 0\n",
        "    i = 2\n",
        "    while i < num:\n",
        "        if num % i == 0:\n",
        "            cant_div += 1\n",
        "        i += 1\n",
        "    if cant_div == 0:\n",
        "        return True\n",
        "    else:\n",
        "        return False\n",
        "\n",
        "def es_perfecto(num):\n",
        "    suma = 0\n",
        "    i = 1\n",
        "    while True:\n",
        "        suma += i\n",
        "        if suma == num:\n",
        "            return True\n",
        "            break\n",
        "        if suma > num:\n",
        "            return False\n",
        "            break\n",
        "        i += 1\n",
        "    \n",
        "min = int(input(\"Ingrese numero minimo: \"))\n",
        "max = int(input(\"Ingrese numero maximo: \"))\n",
        "\n",
        "primos = 0\n",
        "perfectos = 0\n",
        "for i in range(min+1, max):\n",
        "    if es_primo(i):\n",
        "        primos += 1\n",
        "        print(i, end=\" \")\n",
        "    elif es_perfecto(i):\n",
        "        perfectos += 1\n",
        "        print(i, end=\" \")\n",
        "\n",
        "if primos == 0 and perfectos == 0:\n",
        "    print(\"\\nNo existen numeros primos ni perfectos.\")\n",
        "else:\n",
        "    if primos >= 1 and perfectos == 0:\n",
        "        print(f\"\\nExisten {primos} primos, pero no hay perfectos\")\n",
        "    elif perfectos >= 1 and primos == 0:\n",
        "        print(f\"\\nExisten {perfectos} perfectos, pero no hay primos\")\n",
        "    else:\n",
        "        print(f\"\\nExisten {primos} primos y {perfectos} perfectos\")\n"
      ]
    },
    {
      "cell_type": "markdown",
      "metadata": {
        "id": "Yh6mn5YIyxd5"
      },
      "source": [
        "**Sistema hexadecimal**"
      ]
    },
    {
      "cell_type": "code",
      "execution_count": null,
      "metadata": {
        "colab": {
          "base_uri": "https://localhost:8080/"
        },
        "id": "JAHpeHzLy2mz",
        "outputId": "626c3e1d-a421-48b4-aa96-7d70bf13c699"
      },
      "outputs": [
        {
          "name": "stdout",
          "output_type": "stream",
          "text": [
            "Ingrese a un número decimal: 987654321\n",
            "El equivalente a hexadecimal es: 3ADE68B1\n"
          ]
        }
      ],
      "source": [
        "numero = int(input(\"Ingrese a un número decimal: \"))\n",
        "\n",
        "def getHexadecimal(num):\n",
        "    letras = [\"A\", \"B\", \"C\", \"D\", \"E\", \"F\"]\n",
        "    digits = list()\n",
        "    newnum = num\n",
        "    for i in range(17):\n",
        "        if num > 16:\n",
        "            residuo = newnum % 16\n",
        "            cociente = newnum // 16 \n",
        "            if residuo > 9:\n",
        "                digits.append(letras[residuo - 10])\n",
        "            else:\n",
        "                digits.append(str(residuo))\n",
        "            newnum = cociente\n",
        "    digits.append(str(newnum))\n",
        "\n",
        "    result = \"\"\n",
        "    for digit in reversed(digits):\n",
        "        result += digit\n",
        "    return result.replace(\"0\", \"\")\n",
        "\n",
        "hexa = getHexadecimal(numero)\n",
        "print(f\"El equivalente a hexadecimal es: {hexa}\")"
      ]
    },
    {
      "cell_type": "markdown",
      "metadata": {
        "id": "hEVDahf9xtYf"
      },
      "source": [
        "**Repeticiones de strings**"
      ]
    },
    {
      "cell_type": "code",
      "execution_count": null,
      "metadata": {
        "colab": {
          "base_uri": "https://localhost:8080/"
        },
        "id": "HrUTHxh4zsZI",
        "outputId": "3a7379c5-96cf-4bac-c178-984751fd686f"
      },
      "outputs": [
        {
          "name": "stdout",
          "output_type": "stream",
          "text": [
            "Tu frase 1: bebecito\n",
            "Tu frase 2: celeste\n",
            "Tu frase 3: amamantar\n",
            "bea\n"
          ]
        }
      ],
      "source": [
        "def cadena_file(frase):\n",
        "    repes = list()\n",
        "    palabra = frase.replace(\" \", \"\").replace(\",\", \"\")\n",
        "    for letra in palabra:\n",
        "        if letra not in repes:\n",
        "            repes.append(letra)\n",
        "    \n",
        "    counts = list()\n",
        "    for letra in repes:\n",
        "        count = 0\n",
        "        for h in palabra:\n",
        "            if h == letra:\n",
        "                count += 1\n",
        "        counts.append(count)\n",
        "        \n",
        "    mayor = None\n",
        "    for valor in counts:\n",
        "        if mayor == None or mayor < valor:\n",
        "            mayor = valor\n",
        "    nump = counts.index(mayor)\n",
        "    return repes[nump]\n",
        "\n",
        "frase1 = input(\"Tu frase 1: \")\n",
        "frase2 = input(\"Tu frase 2: \")\n",
        "frase3 = input(\"Tu frase 3: \")\n",
        "\n",
        "print(cadena_file(frase1) + cadena_file(frase2) + cadena_file(frase3))"
      ]
    },
    {
      "cell_type": "markdown",
      "metadata": {
        "id": "4rbl2Yncwk_N"
      },
      "source": [
        "**Límites de una lista**"
      ]
    },
    {
      "cell_type": "code",
      "execution_count": null,
      "metadata": {
        "colab": {
          "base_uri": "https://localhost:8080/"
        },
        "id": "ZwaEFZjjws1Z",
        "outputId": "a40437a3-e75e-401a-ee44-da485b8d1765"
      },
      "outputs": [
        {
          "name": "stdout",
          "output_type": "stream",
          "text": [
            "Extraido en:  15 30 25 10\n",
            "Extraido en:  1 80 15 30 25 90 10\n"
          ]
        }
      ],
      "source": [
        "def extrae_intervalo(lista, min=0, max=100):\n",
        "\n",
        "    result = \"\"\n",
        "    for num in lista:\n",
        "        for i in range(min, max):\n",
        "            if num == i:\n",
        "                result += f\" {str(num)}\"\n",
        "    return result\n",
        "\n",
        "lista = [1, 80, 15, 30, 25, 90, 110, 105, 180, 200, 10]\n",
        "print(f\"Extraido en: {extrae_intervalo(lista, 10, 70)}\")\n",
        "print(f\"Extraido en: {extrae_intervalo(lista)}\")"
      ]
    },
    {
      "cell_type": "markdown",
      "metadata": {
        "id": "OqRnmyxd0Adt"
      },
      "source": [
        "**La rentabilidad de un negocio empresarial**"
      ]
    },
    {
      "cell_type": "code",
      "execution_count": null,
      "metadata": {
        "id": "Kwxe61Q80Kc5"
      },
      "outputs": [],
      "source": [
        "estud = int(input(\"Ingrese cantidad de estudiantes: \"))\n",
        "\n",
        "def costosVariable(cant):\n",
        "    if cant == 10:\n",
        "        cobro =  160\n",
        "    elif cant >= 11 and cant <=15:\n",
        "        cobro = cant * 16\n",
        "    elif cant >= 16 and cant <= 20:\n",
        "        cobro = cant * 17\n",
        "    else:\n",
        "        cobro = cant * 20\n",
        "    return cobro\n",
        "\n",
        "def evaluorenta(cant):\n",
        "    ingreso = cant * 80\n",
        "    costos = costosVariable(cant) + 210\n",
        "    venta = ingreso - costos\n",
        "    return venta\n",
        "\n",
        "if evaluorenta(estud) >= 0:\n",
        "    print(\"Resultado:  Rentable\")\n",
        "else:\n",
        "    print(\"Resultado:  No es rentable\")"
      ]
    },
    {
      "cell_type": "markdown",
      "metadata": {
        "id": "o8Y-lHhOYHy8"
      },
      "source": [
        "# **Matrices, archivos y diccionarios**"
      ]
    },
    {
      "cell_type": "markdown",
      "metadata": {
        "id": "Mu6dT4FJ4Yar"
      },
      "source": [
        "**Deletreo en posiciones**"
      ]
    },
    {
      "cell_type": "code",
      "execution_count": null,
      "metadata": {
        "colab": {
          "base_uri": "https://localhost:8080/"
        },
        "id": "rd0xIhfs4bGd",
        "outputId": "840e39a6-63fb-41d8-8ed0-c07de6846750"
      },
      "outputs": [],
      "source": [
        "frase = input(\"Tu frase: \").lower()\n",
        "\n",
        "dist = dict()\n",
        "for j in range(len(frase)):\n",
        "    c = list()\n",
        "    for i in range(len(frase)):\n",
        "        if frase[i] not in c:\n",
        "            if frase[j] == frase[i]:\n",
        "                c.append(i)\n",
        "    dist[frase[j]] = c\n",
        "\n",
        "print(dist)"
      ]
    },
    {
      "cell_type": "markdown",
      "metadata": {
        "id": "bjZuChiyZPfu"
      },
      "source": [
        "**Deletreo de números**"
      ]
    },
    {
      "cell_type": "code",
      "execution_count": null,
      "metadata": {
        "colab": {
          "base_uri": "https://localhost:8080/"
        },
        "id": "1bqP8wjIZMCf",
        "outputId": "ac023bc2-6bdf-4f9f-9cb4-97ec372aaf9b"
      },
      "outputs": [],
      "source": [
        "import random\n",
        "\n",
        "num = int(input(\"Su número: \"))\n",
        "while num <= 1:\n",
        "    num = int(input(\"Su número: \"))\n",
        "\n",
        "def generar_letras(numero):\n",
        "    clasific = \"\"\n",
        "    numeros = [\"cero\", \"uno\", \"dos\", \"tres\", \"cuatro\", \"cinco\", \"seis\", \"siete\", \"ocho\", \"nueve\"]\n",
        "    for digit in str(numero):\n",
        "        clasific += f\"{numeros[int(digit)]} \"\n",
        "    return clasific\n",
        "\n",
        "archivo = open(\"numeros.txt\", \"w\")\n",
        "\n",
        "for i in range(num):\n",
        "    genera_number = random.randint(0, 999)\n",
        "    numeros_letras = generar_letras(genera_number)\n",
        "    archivo.write(f\"{genera_number} {numeros_letras} \\n\")\n",
        "\n",
        "print(\"Se generó el archivo .txt\")\n",
        "archivo.close()\n"
      ]
    },
    {
      "cell_type": "markdown",
      "metadata": {
        "id": "fFuRVRVo7plf"
      },
      "source": [
        "**Archivo al revés**"
      ]
    },
    {
      "cell_type": "code",
      "execution_count": null,
      "metadata": {
        "id": "66nM4JEE7oeu"
      },
      "outputs": [],
      "source": [
        "input1 = open(\"palabras.txt\", \"w\")\n",
        "input1.write('''no dejes que los años te pasen viejo,\\nporque ya te vendran la locura y debes estar preparado\\nante ello''')\n",
        "input1.close()\n",
        "\n",
        "input2 = open(\"frase.txt\", \"w\")\n",
        "input2.write('''confia en ti mismo\\nla vida es un peligro\\nno seas descuidado''')\n",
        "input2.close()\n",
        "\n",
        "archivo = input(\"Un archivo: \")\n",
        "entrada = open(archivo, \"r\")\n",
        "salida = open(\"cambiado.txt\", \"w\")\n",
        "\n",
        "lista = list()\n",
        "for linea in entrada.split(\"\\n\"):\n",
        "    lista.insert(0, linea)\n",
        "\n",
        "for lineaf in lista:\n",
        "    salida.write(f\"{lineaf}\\n\")\n",
        "\n",
        "salida.close()\n"
      ]
    },
    {
      "cell_type": "markdown",
      "metadata": {
        "id": "QJGxULGjAhYQ"
      },
      "source": [
        "\n",
        "**Lista por compresión**"
      ]
    },
    {
      "cell_type": "code",
      "execution_count": null,
      "metadata": {
        "id": "hx9OPhj2Bc0X"
      },
      "outputs": [],
      "source": [
        "def funcion1(lista):\n",
        "    lista_1 = [x**2 for x in lista if x**2 % 2 == 0 and x**2 % 6 != 0]\n",
        "    return lista_1\n",
        "\n",
        "def funcion2(fila, column, valor):\n",
        "    matriz = [[valor for v in range(column)] for i in range(fila)]\n",
        "    return matriz\n",
        "\n",
        "def funcion3(lista):\n",
        "    listapar = [x for x in lista if x % 2 == 0]\n",
        "    listaimpar = [y for y in lista if y % 2 != 0]\n",
        "    return [listapar, listaimpar]\n",
        "\n",
        "def funcio4(matriz):\n",
        "    lista = []\n",
        "    for lmatriz in matriz:\n",
        "        lista += [lis for lis in lmatriz]\n",
        "    return lista"
      ]
    },
    {
      "cell_type": "markdown",
      "metadata": {
        "id": "yWKQy6hZUAwj"
      },
      "source": [
        "**Matriz serpiente**"
      ]
    },
    {
      "cell_type": "code",
      "execution_count": null,
      "metadata": {
        "id": "DqvF2KdzUALc"
      },
      "outputs": [],
      "source": [
        "from random import randint\n",
        "\n",
        "fi = int(input(\"filas: \"))\n",
        "col = int(input(\"columnas: \"))\n",
        "\n",
        "matriz = [[randint(0, 9) for v in range(col)] for i in range(fi)]\n",
        "\n",
        "print(\"\\nMatriz generada:\")\n",
        "for fil in matriz:\n",
        "    for n in fil:\n",
        "        print(n, end=\" \")\n",
        "    print()\n",
        "\n",
        "final = list()\n",
        "j = 0\n",
        "while j != len(matriz[0]):\n",
        "    i = 0\n",
        "    while i != len(matriz):\n",
        "        if j % 2 != 0:\n",
        "            final.append(matriz[len(matriz)-1-i][j])\n",
        "        else:\n",
        "            final.append(matriz[i][j])\n",
        "        i += 1\n",
        "    j += 1\n",
        "print(f\"\\nRecorrido:\\n{final}\")"
      ]
    },
    {
      "cell_type": "markdown",
      "metadata": {
        "id": "WMdzrf1C93A7"
      },
      "source": [
        "**Mezclando archivos**"
      ]
    },
    {
      "cell_type": "code",
      "execution_count": null,
      "metadata": {
        "id": "ah0j2JX0-WgS"
      },
      "outputs": [],
      "source": [
        "# Ejemplos de prueba\n",
        "ejemplo1 = open(\"texto1.txt\", \"w\")\n",
        "ejemplo1.write('''no dejes que los años te pasen viejo,\\nporque ya te vendran la locura y debes estar preparado\\nante ello''')\n",
        "ejemplo1.close()\n",
        "\n",
        "ejemplo2 = open(\"texto2.txt\", \"w\")\n",
        "ejemplo2.write('''confia en ti mismo\\nla vida es un peligro\\nno seas descuidado''')\n",
        "ejemplo2.close()\n",
        "# Ejemplos de prueba \n",
        "\n",
        "archivo1 = input(\"Un archivo: \")\n",
        "archivo2 = input(\"Otro archivo: \")\n",
        "\n",
        "entrada1 = open(archivo1, \"r\")\n",
        "entrada2 = open(archivo2, \"r\")\n",
        "\n",
        "salida = open(\"mezclados.txt\", \"w\")\n",
        "\n",
        "texto1 = [frase.replace(\"\\n\", \"\") for frase in entrada1]\n",
        "texto2 = [frase.replace(\"\\n\", \"\") for frase in entrada2]\n",
        "\n",
        "for linea in range(len(texto1)+len(texto2)):\n",
        "    if linea % 2 == 0:\n",
        "        salida.write(texto1[linea])\n",
        "    else:\n",
        "        salida.write(texto2[linea])\n",
        "\n",
        "salida.close()"
      ]
    },
    {
      "cell_type": "markdown",
      "metadata": {
        "id": "W-byEff6Gr__"
      },
      "source": [
        "**Votaciones**"
      ]
    },
    {
      "cell_type": "code",
      "execution_count": null,
      "metadata": {
        "id": "qPl8BCaiHk-e"
      },
      "outputs": [],
      "source": [
        "votantes = int(input(\"N de votantes: \"))\n",
        "\n",
        "i = 0\n",
        "distrib = dict()\n",
        "while i < votantes:\n",
        "    equipo = input(\"\")\n",
        "    if equipo not in distrib.keys():\n",
        "        distrib[equipo] = 1\n",
        "    else:\n",
        "        distrib[equipo] += 1\n",
        "    i += 1\n",
        "\n",
        "print(\"Diccionoario:\", distrib, \"\\n\\nOutput:\")\n",
        "for name, count in distrib.items():\n",
        "    print(f\"{name} = {count} votaciones\")"
      ]
    },
    {
      "cell_type": "markdown",
      "metadata": {
        "id": "1ykOaqV9Kghf"
      },
      "source": [
        "**Ubicacion de matrices**"
      ]
    },
    {
      "cell_type": "code",
      "execution_count": null,
      "metadata": {
        "id": "j09_WV24KoDp"
      },
      "outputs": [],
      "source": [
        "from numpy import array\n",
        "\n",
        "matriz = [[4, 5, 6, 3],\n",
        "          [1, 4, 6, 7],\n",
        "          [8, 2, 3, 6],\n",
        "          [3, 5, 4, 9],\n",
        "          [3, 4, 5, 3]]\n",
        "\n",
        "colum = int(input(\"N de colummna: \"))\n",
        "suma = 0\n",
        "for h in matriz:\n",
        "    suma += h[colum]\n",
        "promedio = suma/len(matriz)\n",
        "print(f\"\\nEl promedio de la columna {colum} es: {promedio}\")\n",
        "\n",
        "fila = int(input(\"\\nIngrese fila: \"))\n",
        "colum = int(input(\"Ingrese columna: \"))\n",
        "\n",
        "matriz_array = array(matriz)\n",
        "if fila == 0:\n",
        "    if colum == 0:\n",
        "        first = list(matriz_array[:2, :2])\n",
        "    elif colum == len(matriz[fila])-1:\n",
        "        first = list(matriz_array[:2, -2:])\n",
        "    else:\n",
        "        first = list(matriz_array[:2, colum-1:colum+2])\n",
        "elif fila == len(matriz)-1:\n",
        "    if colum == 0:\n",
        "        first = list(matriz_array[-2:, :2])\n",
        "    elif colum == len(matriz[fila])-1:\n",
        "        first = list(matriz_array[-2:, -2:])\n",
        "    else:\n",
        "        first = list(matriz_array[-2:, colum-1:colum+2])\n",
        "elif fila != 0 and fila != len(matriz)-1:\n",
        "    if colum == 0:\n",
        "        first = list(matriz_array[fila-1:fila+2, :2])\n",
        "    elif colum == len(matriz[fila])-1:\n",
        "        first = list(matriz_array[fila-1:fila+2, -2:])\n",
        "    else:\n",
        "        first = list(matriz_array[fila-1:fila+2, colum-1:colum+2])\n",
        "\n",
        "producto = 1\n",
        "for fact in first:\n",
        "    for num in fact:\n",
        "        producto *= num\n",
        "print(f\"\\nEl producto alrededor de ({fila},{colum}) es: {producto//matriz[fila][colum]}\")\n",
        "\n",
        "mayor = 0\n",
        "for fact in first:\n",
        "    for num in fact:\n",
        "        if mayor < num:\n",
        "            mayor = num\n",
        "print(f\"El mayor número alrededor de ({fila},{colum}) es: {mayor}\")"
      ]
    },
    {
      "cell_type": "markdown",
      "metadata": {
        "id": "dECC3JeSjl-d"
      },
      "source": [
        "**Diagonal ( Matriz )**"
      ]
    },
    {
      "cell_type": "code",
      "execution_count": null,
      "metadata": {
        "colab": {
          "base_uri": "https://localhost:8080/"
        },
        "id": "tGcvm8JNjp6y",
        "outputId": "6d3d1467-e7f2-4d51-98b6-917ebb2757a6"
      },
      "outputs": [
        {
          "name": "stdout",
          "output_type": "stream",
          "text": [
            "Ingrese el tamaño: 3\n",
            "Ingrese una letra: re\n",
            "[['re' '*' '*']\n",
            " ['*' 're' '*']\n",
            " ['*' '*' 're']]\n"
          ]
        }
      ],
      "source": [
        "from numpy import array\n",
        "\n",
        "n = int(input(\"Ingrese el tamaño: \"))\n",
        "a = input(\"Ingrese una letra: \")\n",
        "\n",
        "matriz = list()\n",
        "ast = 0\n",
        "for i in range(n):\n",
        "    L = list()\n",
        "    for j in range(n):\n",
        "        if j == ast:\n",
        "            L.append(a)\n",
        "        else:\n",
        "            L.append(\"*\")\n",
        "    ast += 1\n",
        "    matriz.append(L)\n",
        "\n",
        "print(array(matriz))"
      ]
    },
    {
      "cell_type": "markdown",
      "metadata": {
        "id": "CRMpe5lmsKFP"
      },
      "source": [
        "**Matriz diagonal**"
      ]
    },
    {
      "cell_type": "code",
      "execution_count": null,
      "metadata": {
        "id": "wxKJfH55sbqk"
      },
      "outputs": [],
      "source": [
        "from random import randint\n",
        "from numpy import array\n",
        "\n",
        "a = randint(1, 9)\n",
        "c = randint(1, 9)\n",
        "\n",
        "matriz = []\n",
        "for i in range(a):\n",
        "    L = []\n",
        "    for j in range(c):\n",
        "        L.append(randint(0, 100))\n",
        "    matriz.append(L)\n",
        "\n",
        "print(f\"Matriz asignada: \\n{array(matriz)}\")\n",
        "\n",
        "def sumaDiagonal(matriz):\n",
        "    ast = 0\n",
        "    suma = 0\n",
        "    for fila in matriz:\n",
        "        for i in range(len(fila)):\n",
        "            if i == ast:\n",
        "                suma += fila[i]\n",
        "        ast += 1\n",
        "    return suma\n",
        "\n",
        "def es_Diagonal(matriz):\n",
        "    if len(matriz) == len(matriz[0]):\n",
        "        diagonal = False\n",
        "        for fila in matriz:\n",
        "            if sumaDiagonal(matriz) > sum(fila):\n",
        "                return 1\n",
        "        return -1\n",
        "    else:\n",
        "        return -1\n",
        "\n",
        "if es_Diagonal(matriz) == -1:\n",
        "    print(\"\\nLa matriz no es diagonal\")\n",
        "else:\n",
        "    print(\"\\nLa matriz es diagonal\")"
      ]
    },
    {
      "cell_type": "markdown",
      "metadata": {
        "id": "ku5u-_eBnnHc"
      },
      "source": [
        "# **Unitarios (Diccionarios)**"
      ]
    },
    {
      "cell_type": "markdown",
      "metadata": {
        "id": "A9teoZqSnp1g"
      },
      "source": [
        "**Contar letras y palabras en una frase**"
      ]
    },
    {
      "cell_type": "code",
      "execution_count": null,
      "metadata": {
        "id": "kQB2-_CWo26F"
      },
      "outputs": [],
      "source": [
        "frase = input(\"Ingrese frase: \")\n",
        "\n",
        "contad = dict()\n",
        "\n",
        "for letra in frase.replace(\" \", \"\"):\n",
        "    if letra not in contad.keys():\n",
        "        contad[letra] = 1\n",
        "    else:\n",
        "        contad[letra] += 1\n",
        "\n",
        "print(\"Diccionario en letras: \", contad)\n",
        "\n",
        "contad_words= dict()\n",
        "\n",
        "for palabra in frase.split(\" \"):\n",
        "    if palabra not in contad_words.keys():\n",
        "        contad_words[palabra] = 1\n",
        "    else:\n",
        "        contad_words[palabra] += 1\n",
        "\n",
        "print(\"Diccionario en palabras: \", contad_words)"
      ]
    },
    {
      "cell_type": "markdown",
      "metadata": {
        "id": "Psuth1JwpbK7"
      },
      "source": [
        "**Repetir elemento decimal**"
      ]
    },
    {
      "cell_type": "code",
      "execution_count": null,
      "metadata": {
        "id": "1gQ5cKYNpaYc"
      },
      "outputs": [],
      "source": [
        "from random import randint\n",
        "\n",
        "lista = [round(randint(0, 10)/100, 2) for i in range(randint(0, 10))]\n",
        "\n",
        "print(f\"Input: {lista}\\n\")\n",
        "\n",
        "def listaContar(lista):\n",
        "    contad = dict()\n",
        "    for num in lista:\n",
        "        cont = 0\n",
        "        if num not in contad.keys():\n",
        "            contad[num] = 1\n",
        "        else:\n",
        "            contad[num] += 1\n",
        "    for key, valor in contad.items():\n",
        "        print(f\"{key} = {valor}\")\n",
        "\n",
        "listaContar(lista)"
      ]
    },
    {
      "cell_type": "markdown",
      "metadata": {
        "id": "ZlDI9h00zR55"
      },
      "source": [
        "**Números japoneses**"
      ]
    },
    {
      "cell_type": "code",
      "execution_count": null,
      "metadata": {
        "id": "LW-1VvSlzjyV"
      },
      "outputs": [],
      "source": [
        "japoneses = [\"Ichi\", \"Ni\", \"San\", \"Yon\", \"Go\", \"Roku\", \"Nana\", \"Hachi\", \"Kyu\", \"Ju\"]\n",
        "\n",
        "dicc = dict()\n",
        "for i in range(1, 11):\n",
        "    dicc[i] = japoneses[i-1]\n",
        "\n",
        "num = int(input(\"Un número: \"))\n",
        "\n",
        "print(\"\\nEn japonés sería: \", dicc[num])"
      ]
    },
    {
      "cell_type": "markdown",
      "metadata": {
        "id": "7-Uh1YCmHbap"
      },
      "source": [
        "**Cálculo de notas**"
      ]
    },
    {
      "cell_type": "code",
      "execution_count": null,
      "metadata": {
        "id": "xWrDYcexHvHk"
      },
      "outputs": [],
      "source": [
        "n = int(input(\"Nota 1: \"))\n",
        "c = 2\n",
        "registro = {\"Cantidad de notas\": 0, \"Mayores a 11\": 0, \"Menores a 11\": 0}\n",
        "\n",
        "sum = 0\n",
        "while n > 0:\n",
        "    if n >= 11:\n",
        "        registro[\"Mayores a 11\"] += 1\n",
        "    else:\n",
        "        registro[\"Menores a 11\"] += 1\n",
        "    registro[\"Cantidad de notas\"] += 1\n",
        "    sum += n\n",
        "\n",
        "    n = int(input(f\"Nota {c}: \"))\n",
        "    c += 1\n",
        "\n",
        "registro[\"Promedio\"] = round(sum/registro[\"Cantidad de notas\"], 2)\n",
        "print()\n",
        "\n",
        "for k, v in registro.items():\n",
        "    print(f\"{k} = {v}\")\n"
      ]
    },
    {
      "cell_type": "markdown",
      "metadata": {
        "id": "zTIgrtYgMm8t"
      },
      "source": [
        "**Clave y valor**"
      ]
    },
    {
      "cell_type": "code",
      "execution_count": null,
      "metadata": {
        "id": "KZXtUpUXWyOa"
      },
      "outputs": [],
      "source": [
        "clave = input(\"Clave: \").upper()\n",
        "valor = input(\"Valor: \").upper()\n",
        "\n",
        "relacion = {clave: valor}\n",
        "while True:\n",
        "    clave = input(\"Clave: \").upper()\n",
        "    if clave == \"FIN\":\n",
        "        break\n",
        "    valor = input(\"Valor: \").upper()\n",
        "    relacion[clave] = valor\n",
        "\n",
        "letra = input(\"\\nIngrese V o C (vocal o consonante): \").upper()\n",
        "for k, v in relacion.items():\n",
        "    if letra == \"V\":\n",
        "        if k[0] in \"aeiou\".upper():\n",
        "            print(v.lower())\n",
        "    elif letra == \"C\":\n",
        "        if k[0] in \"bcdfghjklmnpqrstvwxyz\".upper():\n",
        "            print(v.lower())"
      ]
    },
    {
      "cell_type": "markdown",
      "metadata": {
        "id": "Gh38AaFRbXl_"
      },
      "source": [
        "**Cantidad de aminas ADN**"
      ]
    },
    {
      "cell_type": "code",
      "execution_count": null,
      "metadata": {
        "id": "1Qu1S2FqbjRg"
      },
      "outputs": [],
      "source": [
        "cadena = input(\"Input: \")\n",
        "\n",
        "letras = dict()\n",
        "for i in cadena:\n",
        "    if i == cadena[0] or i == cadena[-1]:\n",
        "        if i not in letras.keys():\n",
        "            letras[i] = 1\n",
        "        else:\n",
        "            letras[i] += 1\n",
        "\n",
        "print(\"Output: \", letras)"
      ]
    },
    {
      "cell_type": "markdown",
      "metadata": {
        "id": "IflSP2OmfJyT"
      },
      "source": [
        "**Temperaturas de la SENAMHI**"
      ]
    },
    {
      "cell_type": "code",
      "execution_count": null,
      "metadata": {
        "id": "5KnI85LKfWbs"
      },
      "outputs": [],
      "source": [
        "lima = {\"22/05/2019\":17 , \"23/05/2019\":17 , \"24/05/2019\":19 ,\n",
        "\"25/05/2019\":23 , \"26/05/2019\":20 , \"27/05/2019\":18 ,\n",
        "\"28/05/2019\":20 , \"29/05/2019\":19 , \"30/05/2019\":22 ,\n",
        "\"31/05/2019\":19 , \"01/06/2019\":20 , \"02/06/2019\":19 ,\n",
        "\"03/06/2019\":17 , \"04/06/2019\":16 , \"05/06/2019\":18 ,\n",
        "\"06/06/2019\":21 , \"07/06/2019\":19 , \"08/06/2019\":15 ,\n",
        "\"09/06/2019\":17 , \"10/06/2019\":20 , \"11/06/2019\":15 ,\n",
        "\"12/06/2019\":22 , \"13/06/2019\":14 , \"14/06/2019\":16 }\n",
        "\n",
        "n = int(input(\"Ingrese la cantidad de datoss a agregar: \"))\n",
        "i = 0\n",
        "while i < n:\n",
        "    fecha = input(\"Ingrese fecha: \")\n",
        "    if fecha in lima.keys():\n",
        "        fecha = input(\"Ingrese fecha distinta: \")\n",
        "    temperatura = int(input(\"Ingrese temperatura: \"))\n",
        "    lima[fecha] = temperatura\n",
        "\n",
        "def comparacion(dicc):\n",
        "    a, b = None, None\n",
        "    mayor, menor = 0, 0\n",
        "    for f, tem in dicc.items():\n",
        "        if tem >= mayor:\n",
        "            mayor = tem\n",
        "            a = f\n",
        "        if tem < menor:\n",
        "            menor = tem\n",
        "            b = f\n",
        "    return [a, b]\n",
        "\n",
        "valores = comparacion(lima)\n",
        "print(\"\\nLa fecha con la temperatura más baja fue: \", valores[1])\n",
        "print(\"La fecha con la temperatura más alta fue: \", valores[0])"
      ]
    },
    {
      "cell_type": "markdown",
      "metadata": {
        "id": "DWBs141KgSKd"
      },
      "source": [
        "**Números romanos**"
      ]
    },
    {
      "cell_type": "code",
      "execution_count": null,
      "metadata": {
        "id": "8gPKpkSOggGy"
      },
      "outputs": [],
      "source": [
        "romanos = {\"M\": 1000, \"D\": 500, \"C\": 100, \"L\": 50, \"X\": 10, \"V\": 5, \"I\": 1}\n",
        "\n",
        "dato = input(\"ingrese numero romano: \")\n",
        "dato += \" \"\n",
        "\n",
        "num = 0\n",
        "i = 0\n",
        "while i < len(dato):\n",
        "    if dato[i] != \" \":\n",
        "        num += romanos[dato[i]]\n",
        "    if dato[i] == \"C\" and dato[i+1] == \"D\":\n",
        "        num += 300\n",
        "        i += 1\n",
        "    elif dato[i] == \"X\" and dato[i+1] == \"L\":\n",
        "        num += 30\n",
        "        i += 1\n",
        "    elif dato[i] == \"I\" and dato[i+1] == \"V\":\n",
        "        num += 3\n",
        "        i += 1\n",
        "    i += 1\n",
        "\n",
        "print(\"Número decimal: \", num)"
      ]
    },
    {
      "cell_type": "markdown",
      "metadata": {
        "id": "p42bRyNTq03F"
      },
      "source": [
        "**Número de feriados por país**"
      ]
    },
    {
      "cell_type": "code",
      "execution_count": null,
      "metadata": {
        "id": "qjkhZDu7q3rk"
      },
      "outputs": [],
      "source": [
        "feriad = {\"Colombia\": 20, \"Venezuela\": 14, \"Ecuador\": 13, \"Perú\": 13,\n",
        "            \"Chile\": 20, \"Brasil\": 14, \"Argentina\": 16, \"Paraguay\": 12,\n",
        "            \"Uruguay\": 16, \"Bolivia\": 11}\n",
        "\n",
        "pais = input(\"Ingrese un nombre de país: \").capitalize()\n",
        "dias_fer = feriad[pais]\n",
        "\n",
        "dias = int(input(\"Ingrese un número de días: \"))\n",
        "\n",
        "print(f\"\\nLos feriados en {pais} son {dias_fer}\")\n",
        "\n",
        "feriados = []\n",
        "print(f\"Los paises que tiene mas de {dias} feriados son:\", end=\" \")\n",
        "\n",
        "for ps, di in feriad.items():\n",
        "    if di > dias:\n",
        "        feriados.append(di)\n",
        "        print(ps, end=\" \")\n",
        "print(\"\\nEl total de feriados es:\", sum(feriados))\n"
      ]
    },
    {
      "cell_type": "markdown",
      "metadata": {
        "id": "--3P5YpotP6R"
      },
      "source": [
        "**Claves y valores**"
      ]
    },
    {
      "cell_type": "code",
      "execution_count": null,
      "metadata": {
        "id": "nfYu64dzt8ks"
      },
      "outputs": [],
      "source": [
        "clavevalor = input(\"Ingrese clave y valor: \")\n",
        "\n",
        "distrib = dict()\n",
        "while clavevalor != \"fin\":\n",
        "    distrib[clavevalor.split(\" \")[0]] = int(clavevalor.split(\" \")[1])\n",
        "    clavevalor = input(\"Ingrese clave y valor: \")\n",
        "print(\"**Fin de etapa de ingreso**\\n\")\n",
        "\n",
        "clave_search = input(\"Ingrese una clave a buscar: \")\n",
        "while clave_search not in distrib.keys():\n",
        "    print(\"--> La clave no se encuentra. Intentar de nuevo.\")\n",
        "    clave_search = input(\"Ingrese una clave a buscar: \")\n",
        "\n",
        "print(\"Valor buscado: \", distrib[clave_search])\n",
        "\n",
        "pares = list()\n",
        "for cl in distrib.values():\n",
        "    if cl % 2 == 0:\n",
        "        pares.append(cl)\n",
        "print(f\"\\nLos valores pares son:\\n{pares}\")"
      ]
    },
    {
      "cell_type": "markdown",
      "metadata": {
        "id": "6hr8_ZNfxp0V"
      },
      "source": [
        "**Contar letras, números, espacios y signos**"
      ]
    },
    {
      "cell_type": "code",
      "execution_count": null,
      "metadata": {
        "id": "ZUHTBfKoxpdp"
      },
      "outputs": [],
      "source": [
        "text = input(\"Ingrese un texto: \")\n",
        "\n",
        "dicc = {\"Espacios\": 0, \"Letras\": 0, \"Números\": 0, \"Signos\": 0}\n",
        "for i in text:\n",
        "    if i.isalpha():\n",
        "        dicc[\"Letras\"] += 1\n",
        "    if i.isdigit():\n",
        "        dicc[\"Números\"] += 1\n",
        "    if i == \" \":\n",
        "        dicc[\"Espacios\"] += 1\n",
        "    if i in \"#$%&!?¡¿'=)(/+-*/\\{}[],.-_@°<>\":\n",
        "        dicc[\"Signos\"] += 1\n",
        "\n",
        "print(\"Diccionario resultado: \", dicc)"
      ]
    },
    {
      "cell_type": "markdown",
      "metadata": {
        "id": "F9SN4xBE0nGR"
      },
      "source": [
        "**Puntaje de ejercicios por HackerRank**"
      ]
    },
    {
      "cell_type": "code",
      "execution_count": null,
      "metadata": {
        "id": "bkpJ51o102Of"
      },
      "outputs": [],
      "source": [
        "from random import randint\n",
        "from numpy import array\n",
        "\n",
        "max = 2  # nota max por Hr\n",
        "i = 1    # count numero de Hr's\n",
        "notas = list()  # agregar nota\n",
        "while i < 25:\n",
        "    note = randint(0, max)\n",
        "    notas.append({f\"Hr{i}\": note})\n",
        "    i += 1\n",
        "\n",
        "print(f\"Puntaje obtenido:\\n{array(notas)}\\n\")\n",
        "cants = list()  # agregar count notas\n",
        "for j in range(max+1):\n",
        "    cant = 0  # nuevo count notas\n",
        "    for i in range(len(notas)):\n",
        "        if notas[i][f\"Hr{i+1}\"] == j:  # identificar nota por Hr\n",
        "            cant += 1\n",
        "    cants.append(cant)\n",
        "\n",
        "notap = 0  # sumando la nota final\n",
        "for i in range(len(cants)):\n",
        "    print(f\"La cantidad de {i}'s es: {cants[i]}\") \n",
        "    notap += (i*cants[i])/(max*len(notas)) * 20  # redondeando puntaje del suma por nota y suma max de notas a 20\n",
        "\n",
        "print(\"\\nLa nota de Evaluación continua (EC) es:\", round(notap, 2))\n"
      ]
    },
    {
      "cell_type": "markdown",
      "metadata": {
        "id": "yFt1DBs5A60H"
      },
      "source": [
        "**Encriptación a lo Billions**"
      ]
    },
    {
      "cell_type": "code",
      "execution_count": null,
      "metadata": {
        "id": "0bT1dSVqBAFj"
      },
      "outputs": [],
      "source": [
        "texto = input(\"Ingrese un texto: \")\n",
        "\n",
        "def traducir(text):\n",
        "    texto = \"abcdefghijklmnñopqrstuvwxyz\"\n",
        "    regla = dict()\n",
        "    for i in range(len(texto)):\n",
        "        regla[texto[i]] = i+1\n",
        "\n",
        "    encryp = \"\"\n",
        "    for le in text:\n",
        "        if le.isalpha():\n",
        "            encryp += str(regla[le])\n",
        "    return encryp\n",
        "\n",
        "print(\"El mensaje encriptado es:\", traducir(texto))"
      ]
    },
    {
      "cell_type": "markdown",
      "metadata": {
        "id": "u8RrATikETyg"
      },
      "source": [
        "**Cadena de planetas**"
      ]
    },
    {
      "cell_type": "code",
      "execution_count": null,
      "metadata": {
        "id": "TlGk0TWzEgjR"
      },
      "outputs": [],
      "source": [
        "planetas = \"Sol@planeta$Mercurio@planeta$Venus@planeta$Tierra@planeta$Marte@planeta$Jupyter@planeta$Saturno@planeta$Urano@planeta$Neptuno@planeta$Pluton\"\n",
        "planetas = planetas.replace(\"planeta$\", \"\")\n",
        "ast = dict()\n",
        "i = 1\n",
        "for categ in planetas.split(\"@\"):\n",
        "    ast[i] = categ\n",
        "    i += 1\n",
        "\n",
        "def returnValue(id, dicc=ast):\n",
        "    for k, v in dicc.items():\n",
        "        if id == k:\n",
        "            return v\n",
        "def returnId(text, dicc=ast):\n",
        "    for k, v in dicc.items():\n",
        "        if v == text:\n",
        "            return k\n",
        "\n",
        "id = int(input(\"Ingrese una llave desde 1 hasta 10: \"))\n",
        "while id > 10 or id < 0:\n",
        "    id = int(input(\"Ingrese una llave desde 1 hasta 10: \"))\n",
        "\n",
        "print(f\"El valor con llave {id} es {returnValue(id)}\\n\")\n",
        "\n",
        "valor = input(\"Ingrese un valor de un planeta: \").capitalize()\n",
        "while valor not in ast.values():\n",
        "    valor = input(\"Ingrese un valor de un planeta: \").capitalize()\n",
        "\n",
        "print(f\"La llave con valor {valor} es {returnId(valor)}\")"
      ]
    },
    {
      "cell_type": "markdown",
      "metadata": {
        "id": "Q_D2h2bxPUTI"
      },
      "source": [
        "# **Unitarios (Sorting)**"
      ]
    },
    {
      "cell_type": "markdown",
      "metadata": {
        "id": "f5y_32j6PcoW"
      },
      "source": [
        "**Lista de palabras ascendente**"
      ]
    },
    {
      "cell_type": "code",
      "execution_count": null,
      "metadata": {
        "id": "QDSxxmOlPia-"
      },
      "outputs": [],
      "source": [
        "num = int(input(\"Ingrese número: \"))\n",
        "\n",
        "numeros = list()\n",
        "while num != -1:\n",
        "    numeros.append(num)\n",
        "    num = int(input(\"Ingrese número: \"))\n",
        "print(\"------------------\")\n",
        "\n",
        "palabras = list()\n",
        "palab = input(\"Ingrese palabra: \").upper()\n",
        "while palab != \"FIN\":\n",
        "    palabras.append(palab)\n",
        "    palab = input(\"Ingrese palabra: \").upper()\n",
        "\n",
        "def InsertSort(lista):\n",
        "    for i in range(1, len(lista)): \n",
        "        key = lista[i]\n",
        "        j = i-1\n",
        "        while j >=0 and key < lista[j] :\n",
        "                lista[j+1] = lista[j]\n",
        "                j -= 1\n",
        "        lista[j+1] = key\n",
        "    return lista\n",
        "\n",
        "print(\"Lista de ordenada de números:\", InsertSort(numeros))\n",
        "print(\"Lista de ordenada de palabras:\", InsertSort(palabras))\n"
      ]
    },
    {
      "cell_type": "markdown",
      "metadata": {
        "id": "WBKJLfRMKhCQ"
      },
      "source": [
        "**Meses en descendente**"
      ]
    },
    {
      "cell_type": "code",
      "execution_count": null,
      "metadata": {
        "id": "i7zYWwLLKjpz"
      },
      "outputs": [],
      "source": [
        "mes = input(\"Mes: \")\n",
        "\n",
        "meses = list()\n",
        "default = [\"enero\", \"febrero\", \"marzo\", \"abril\", \"mayo\", \"junio\", \"julio\", \"agosto\", \"setiembre\", \"octubre\", \"noviembre\", \"diciembre\"]\n",
        "\n",
        "while mes.upper() != \"FIN\":\n",
        "    if mes == mes.lower() and mes in default:\n",
        "        meses.append(mes)\n",
        "    else:\n",
        "        print(\"Error\")\n",
        "    mes = input(\"Mes: \")\n",
        "\n",
        "def InsertSort_desc(lista):\n",
        "    for i in range(1, len(lista)): \n",
        "        key = lista[i]\n",
        "        j = i-1\n",
        "        while j >=0 and key > lista[j] :\n",
        "                lista[j+1] = lista[j]\n",
        "                j -= 1\n",
        "        lista[j+1] = key\n",
        "    return lista\n",
        "\n",
        "print(\"Lista en ascendente:\", InsertSort_desc(meses))"
      ]
    },
    {
      "cell_type": "markdown",
      "metadata": {
        "id": "1d3TbwxATC9k"
      },
      "source": [
        "**Población del 2017, según INEI**"
      ]
    },
    {
      "cell_type": "code",
      "execution_count": null,
      "metadata": {
        "id": "Asb0XB1ZTPER"
      },
      "outputs": [],
      "source": [
        "def InsertSort_desc(lista):\n",
        "    for i in range(1, len(lista)): \n",
        "        key = lista[i]\n",
        "        j = i-1\n",
        "        while j >=0 and key > lista[j] :\n",
        "                lista[j+1] = lista[j]\n",
        "                j -= 1\n",
        "        lista[j+1] = key\n",
        "    return lista\n",
        "\n",
        "inei = {\"Molina\":175237 , \"Callao\":426649 , \"Victoria\":174958 ,\n",
        "\"Comas\":532403 , \"Agustino\":194474 , \"Carabayllo\":305963 ,\n",
        "\"Olivos\":377532 , \"Cieneguilla\":47860 , \"Lince\":51054 ,\n",
        "\"Independencia\":220654 , \"Jesus Maria\":73439 , \"Ate\":638345 ,\n",
        "\"Carmen Legua\":43156 , \"Mi Peru\":52722 , \"Ventanilla\":356040 ,\n",
        "\"Lima\":276861 , \"Ancon\":43951 , \"Barranco\":30698 ,\n",
        "\"Bellavista\":78489 , \"La Perla\":64111 , \"Brena\":77291 ,\n",
        "\"Chaclacayo\":44271 , \"Chorrillos\":330483 , \"Lince\":51054 }\n",
        "\n",
        "def Ordenar_pobl(dicc=inei):\n",
        "    lista = [cant for cant in dicc.values()]\n",
        "    return InsertSort_desc(lista)\n",
        "\n",
        "inei_desor = Ordenar_pobl()\n",
        "mayor = inei_desor[0]\n",
        "menor = inei_desor[-1]\n",
        "\n",
        "print(\"Población desordenada:\", inei_desor)\n",
        "print(\"\\nPoblación mas alta:\", mayor)\n",
        "print(\"Población mas baja:\", menor)"
      ]
    },
    {
      "cell_type": "markdown",
      "metadata": {
        "id": "C7vmcBg4Xn-E"
      },
      "source": [
        "**Orden de cada lista**"
      ]
    },
    {
      "cell_type": "code",
      "execution_count": null,
      "metadata": {
        "id": "K8yVfKRCXnmh"
      },
      "outputs": [],
      "source": [
        "def InsertSort(lista):\n",
        "    for i in range(1, len(lista)): \n",
        "        key = lista[i]\n",
        "        j = i-1\n",
        "        while j >=0 and key < lista[j] :\n",
        "                lista[j+1] = lista[j]\n",
        "                j -= 1\n",
        "        lista[j+1] = key\n",
        "    return lista\n",
        "\n",
        "compues = [[8 , 9 , 14 , 15 , 16 , 18 , 4 , 6 , 10 , 12 ] ,\n",
        "[21 , 22 , 25 , 26 , 27 , 20 , 24] ,\n",
        "[34 , 28 , 32 , 33 , 30 , ] ,\n",
        "[38 , 39 , 42 , 44 , 35 , 36 , 40] ,\n",
        "[52 , 54 , 45 , 48 , 49 , 50 , 51 , 46 ]]\n",
        "\n",
        "def ordenar_matriz(matriz=compues):\n",
        "    print(\"Orden de listas:\\n\")\n",
        "    for lista in matriz:\n",
        "        ordena = InsertSort(lista)\n",
        "        print(ordena)\n",
        "        print(f\"Maximo elemento: {ordena[-1]}\\n\")\n",
        "\n",
        "ordenar_matriz()"
      ]
    },
    {
      "cell_type": "markdown",
      "metadata": {
        "id": "4KVokcmlj5Pm"
      },
      "source": [
        "# **Unitarios (Recursividad)**"
      ]
    },
    {
      "cell_type": "markdown",
      "metadata": {
        "id": "eBNqVovckDjj"
      },
      "source": [
        "**Contar dígitos**"
      ]
    },
    {
      "cell_type": "code",
      "execution_count": null,
      "metadata": {
        "id": "hq3-M2XckC2D"
      },
      "outputs": [],
      "source": [
        "numero = int(input(\"Un número: \"))\n",
        "\n",
        "def ContarDigits(num, cont=0):\n",
        "    chrter = str(num)\n",
        "    if cont == len(chrter):\n",
        "        return cont\n",
        "    return ContarDigits(num, cont+1)\n",
        "\n",
        "print(\"Digitos:\", ContarDigits(numero))"
      ]
    },
    {
      "cell_type": "markdown",
      "metadata": {
        "id": "zL9QWe3w5M9G"
      },
      "source": [
        "**Número armónico y factorial**"
      ]
    },
    {
      "cell_type": "code",
      "execution_count": null,
      "metadata": {
        "colab": {
          "base_uri": "https://localhost:8080/"
        },
        "id": "4AsIEiqw5QLj",
        "outputId": "791b974b-c045-4fc8-830e-91eff6606c75"
      },
      "outputs": [
        {
          "name": "stdout",
          "output_type": "stream",
          "text": [
            "N: 5\n",
            "Resultado del factorial: 120\n",
            "Resultado armónico: 2.283\n"
          ]
        }
      ],
      "source": [
        "n = int(input(\"N: \"))\n",
        "\n",
        "def Armonic(num):\n",
        "    if num == 1:\n",
        "        return num\n",
        "    return 1/num + Armonic(num-1)\n",
        "\n",
        "def factorial(num):\n",
        "    if num == 1:\n",
        "        return num\n",
        "    return factorial(num-1) *num\n",
        "\n",
        "print(\"Resultado en factorial:\", factorial(n))\n",
        "print(\"Resultado armónico:\", round(Armonic(n), 3))"
      ]
    },
    {
      "cell_type": "markdown",
      "metadata": {
        "id": "0YNil0QN6lz2"
      },
      "source": [
        "**Número y decremento**"
      ]
    },
    {
      "cell_type": "code",
      "execution_count": null,
      "metadata": {
        "id": "mZqcnTBF6vFc"
      },
      "outputs": [],
      "source": [
        "N = int(input(\"N: \"))\n",
        "X = int(input(\"X: \"))\n",
        "\n",
        "def imprimeSerie(n, x, con=0):\n",
        "    if con >= n:\n",
        "        return \"Fin\"\n",
        "    return f\"{n-con} {imprimeSerie(n, x, con+x)}\" \n",
        "\n",
        "print(\"Serie:\", imprimeSerie(N, X))"
      ]
    },
    {
      "cell_type": "markdown",
      "metadata": {
        "id": "WjBB4zSo8vgL"
      },
      "source": [
        "**Potenciación recursiva**"
      ]
    },
    {
      "cell_type": "code",
      "execution_count": null,
      "metadata": {
        "id": "q7XDV7hY9Iz8"
      },
      "outputs": [],
      "source": [
        "n = int(input(\"Número: \"))\n",
        "ex = int(input(\"Exponente: \"))\n",
        "\n",
        "def potenciacion(num, exp, cont=0):\n",
        "    if cont == exp-1:\n",
        "        return num\n",
        "    return num * potenciacion(num, exp, cont+1)\n",
        "\n",
        "print(\"El resultado es:\", potenciacion(n, ex))"
      ]
    },
    {
      "cell_type": "markdown",
      "metadata": {
        "id": "BPSQ9azb-Au3"
      },
      "source": [
        "**Recurrencia recursiva y no recursiva**"
      ]
    },
    {
      "cell_type": "code",
      "execution_count": null,
      "metadata": {
        "id": "SAdcoQpiAGdb"
      },
      "outputs": [],
      "source": [
        "def NoRec_Recurr(num):\n",
        "    result = (num*(num+1))/2 + 4\n",
        "    return int(result)\n",
        "\n",
        "def Rec_Recurr(num, init=4, cont=1):\n",
        "    if cont == num:\n",
        "        return cont + init\n",
        "    return Rec_Recurr(num, init+cont, cont+1)\n",
        "\n",
        "for i in range(1, 11):\n",
        "    print(f\"Para n= {i}:  An [1] = {NoRec_Recurr(i)}, An [2] = {Rec_Recurr(i)}\")"
      ]
    },
    {
      "cell_type": "markdown",
      "metadata": {
        "id": "7Mq7bDJ_Fb6F"
      },
      "source": [
        "**Función len( ) sin usar len( )**"
      ]
    },
    {
      "cell_type": "code",
      "execution_count": null,
      "metadata": {
        "id": "mACneQmbFp8q"
      },
      "outputs": [],
      "source": [
        "cad = input(\"Ingrese una cadena: \")\n",
        "\n",
        "def string(lista):\n",
        "    x = \"\"\n",
        "    for i in lista:\n",
        "        x += i\n",
        "    return x\n",
        "\n",
        "def Raw_len(cter, cont=0):\n",
        "    lista = [x for x in cter]\n",
        "    if lista == []:\n",
        "        return cont\n",
        "    f = lista[0]\n",
        "    lista.remove(f)\n",
        "    newchter = string(lista)\n",
        "    return Raw_len(newchter, cont+1)\n",
        "\n",
        "print(\"Longitud de la cadena es:\", Raw_len(cad))"
      ]
    },
    {
      "cell_type": "markdown",
      "metadata": {
        "id": "Fs9HnFGcOrA6"
      },
      "source": [
        "**Serie de multiplicar**"
      ]
    },
    {
      "cell_type": "code",
      "execution_count": null,
      "metadata": {
        "id": "0ljyEv7WPl2D"
      },
      "outputs": [],
      "source": [
        "num = int(input(\"Un número: \"))\n",
        "\n",
        "def SumaSerie(pos, num1=0, num2=1, cont=2):\n",
        "    if pos == 1:\n",
        "        return num1\n",
        "    if pos == 2 or pos == cont:\n",
        "        return num2\n",
        "    return SumaSerie(pos, num2, (num1*num2)+1, cont+1)\n",
        "    \n",
        "print(\"El número en esa posición es:\", SumaSerie(num))"
      ]
    },
    {
      "cell_type": "markdown",
      "metadata": {
        "id": "AK4DZKR4THMG"
      },
      "source": [
        "**Primeros números naturales**"
      ]
    },
    {
      "cell_type": "code",
      "execution_count": null,
      "metadata": {
        "id": "_mBSe59gT5uz"
      },
      "outputs": [],
      "source": [
        "num = int(input(\"Un número: \"))\n",
        "\n",
        "def Contar(num, cont=1):\n",
        "    if cont == num:\n",
        "        return cont\n",
        "    return f\"{cont} {Contar(num, cont+1)}\"\n",
        "\n",
        "def SumaNat(num, cont=1):\n",
        "    if cont == num:\n",
        "        return cont\n",
        "    return cont + SumaNat(num, cont+1)\n",
        "\n",
        "print(\"\\nDe los números:\", Contar(num))\n",
        "print(\"La suma total es:\", SumaNat(num))"
      ]
    },
    {
      "cell_type": "markdown",
      "metadata": {
        "id": "l4rO4RrnVPy6"
      },
      "source": [
        "**Suma de dígitos**"
      ]
    },
    {
      "cell_type": "code",
      "execution_count": null,
      "metadata": {
        "id": "1AMK3ul1W7jJ"
      },
      "outputs": [],
      "source": [
        "n = int(input(\"Un número: \"))\n",
        "\n",
        "def string(lista):\n",
        "    x = \"\"\n",
        "    for i in lista:\n",
        "        x += i\n",
        "    return x\n",
        "\n",
        "def suma(num):\n",
        "    lista = [x for x in str(num)]\n",
        "    if len(lista) == 1:\n",
        "        return int(lista[0])\n",
        "    f = lista[0]\n",
        "    lista.remove(f)\n",
        "    newlist = string(lista)\n",
        "    return suma(newlist) + int(f)\n",
        "\n",
        "final = suma(n)\n",
        "print(\"La suma de dígitos es:\", final)\n",
        "\n",
        "if final % 3 == 0:\n",
        "    divisible = \"SI\"\n",
        "else:\n",
        "    divisible = \"NO\" \n",
        "print(f\"Este número {divisible} es divisible por 3\")"
      ]
    },
    {
      "cell_type": "markdown",
      "metadata": {
        "id": "-xBAH0QKRWYe"
      },
      "source": [
        "# **Ejercicios de PC nuevas**"
      ]
    },
    {
      "cell_type": "markdown",
      "metadata": {
        "id": "06iVDlstRZ55"
      },
      "source": [
        "**Busqueda de celebridades**"
      ]
    },
    {
      "cell_type": "code",
      "execution_count": null,
      "metadata": {
        "id": "RZhudh8YRgRR"
      },
      "outputs": [],
      "source": [
        "premios = [\n",
        "{\"anio\": 2010,\"nombre\":\"Andre Geim y Konstantın_Novosiolov\"} ,\n",
        "{\"anio\": 2011 ,\"nombre\":\"Perlmutter, Schmidt y Adam Riess\"} ,\n",
        "{\"anio\": 2012 ,\"nombre\":\"Serge Haroche y David Wineland\"} ,\n",
        "{\"anio\": 2013 ,\"nombre\":\"Peter Higgs y Francois Englert\"} ,\n",
        "{\"anio\": 2014 ,\"nombre\":\"Akasaki, Hiroshi Amano y Nakamura\"} ,\n",
        "{\"anio\": 2015 ,\"nombre\":\"Takaaki Kajita y Arthur B. McDonald\"} ,\n",
        "{\"anio\": 2016 ,\"nombre\":\"Thouless, Haldane y Kosterlitz\"} ,\n",
        "{\"anio\": 2017 ,\"nombre\":\"Rainer Weiss, Barry Barish y Thorne\"} ,\n",
        "{\"anio\": 2018 ,\"nombre\":\"Donna Strickland, Mourou y Ashkin\"} ,\n",
        "{\"anio\": 2019 ,\"nombre\":\"James Peebles, Mayor y Queloz\"} ]\n",
        "\n",
        "fecha = int(input(\"Premios Nobel\\nIngrese año: \"))\n",
        "\n",
        "for dato in premios:\n",
        "    if dato[\"anio\"] == fecha:\n",
        "        print(\"Ganadores:\", dato[\"nombre\"])\n",
        "        break\n",
        "\n",
        "peliculas = [\n",
        "{\"titulo\":\"Shrek\", \"anio\": 2001} ,\n",
        "{\"titulo\":\"El viaje de Chihiro\", \"anio\": 2002} ,\n",
        "{\"titulo\":\"WALL=E\", \"anio\": 2008} ,\n",
        "{\"titulo\":\"Up\", \"anio\": 2009} ,\n",
        "{\"titulo\":\"Buscando a Nemo\",\"anio\": 2003} ,\n",
        "{\"titulo\":\"Los Increibles\", \"anio\": 2004} ,\n",
        "{\"titulo\":\"Wallace y Gromit\", \"anio\": 2005} ,\n",
        "{\"titulo\":\"Valiente\", \"anio\": 2012} ,\n",
        "{\"titulo\":\"Frozen\", \"anio\": 2013} ,\n",
        "{\"titulo\":\"Grandes Héroes\", \"anio\": 2014} ,\n",
        "{\"titulo\":\"Happy Feet\", \"anio\": 2006} ,\n",
        "{\"titulo\":\"Ratatouille\", \"anio\": 2007} ,\n",
        "{\"titulo\":\"Toy Story 3\", \"anio\": 2010} ,\n",
        "{\"titulo\":\"Rango\", \"anio\": 2011}\n",
        "]\n",
        "\n",
        "fecha = int(input(\"\\nPeliculas:\\nIngrese año: \"))\n",
        "\n",
        "for dato in peliculas:\n",
        "    if dato[\"anio\"] == fecha:\n",
        "        print(\"Película:\", dato[\"titulo\"])\n",
        "        break"
      ]
    },
    {
      "cell_type": "markdown",
      "metadata": {
        "id": "--u0IXh1Va3C"
      },
      "source": [
        "**Sumas recursivas**"
      ]
    },
    {
      "cell_type": "code",
      "execution_count": null,
      "metadata": {
        "colab": {
          "base_uri": "https://localhost:8080/"
        },
        "id": "RdxnbWvoVd7B",
        "outputId": "651ccd0a-5720-445e-8e09-991b6c8bae72"
      },
      "outputs": [
        {
          "name": "stdout",
          "output_type": "stream",
          "text": [
            "Lista: [4, 10, 8]\n",
            "Suma recursiva: 0\n"
          ]
        }
      ],
      "source": [
        "from random import randint\n",
        "\n",
        "lista = [randint(2, 11) for x in range(randint(1, 7))]\n",
        "print(\"Lista:\", lista)\n",
        "\n",
        "def sumaRecur(lis, cont=0):\n",
        "    if cont == len(lis) -1:\n",
        "        if lis[cont] % 2 == 0:\n",
        "            return 0\n",
        "        return lis[cont]\n",
        "    if lis[cont] % 2 == 0:\n",
        "        return sumaRecur(lis, cont+1) + 0\n",
        "    return sumaRecur(lis, cont+1) + lis[cont]\n",
        "\n",
        "print(\"Suma recursiva:\", sumaRecur(lista))"
      ]
    },
    {
      "cell_type": "markdown",
      "metadata": {
        "id": "b_Df2lBC2lQp"
      },
      "source": [
        "**Rangos recursivos**"
      ]
    },
    {
      "cell_type": "code",
      "execution_count": null,
      "metadata": {
        "id": "xTU1vCDR2tCw"
      },
      "outputs": [],
      "source": [
        "num1 = int(input(\"Número 1: \"))\n",
        "num2 = int(input(\"Número 2: \"))\n",
        "\n",
        "def sumaRang(n1, n2):\n",
        "    if n1 == n2:\n",
        "        return n2\n",
        "    if n1 > n2:\n",
        "        r = n1\n",
        "        n1 = n2\n",
        "        n2 = r\n",
        "    return sumaRang(n1+1, n2) + n1\n",
        "\n",
        "print(\"\\nResultado:\", sumaRang(num1, num2))"
      ]
    },
    {
      "cell_type": "markdown",
      "metadata": {
        "id": "z3D0lIrm6Fhh"
      },
      "source": [
        "**Dígitos pares recursivos**"
      ]
    },
    {
      "cell_type": "code",
      "execution_count": null,
      "metadata": {
        "colab": {
          "base_uri": "https://localhost:8080/"
        },
        "id": "4QaUV49h6JuL",
        "outputId": "93062666-2754-4cb2-8472-e68dc25786ba"
      },
      "outputs": [
        {
          "name": "stdout",
          "output_type": "stream",
          "text": [
            "Numero asignado: 914385\n",
            "Cantidad de dígitos: 2\n"
          ]
        }
      ],
      "source": [
        "from random import randint\n",
        "\n",
        "numero = randint(10, 999999)\n",
        "print(\"Numero asignado:\", numero)\n",
        "\n",
        "def Digitspar(crt, cont=0, cantidad=0):\n",
        "    caracter = str(crt)\n",
        "    if cont == len(caracter) -1:\n",
        "        if int(caracter[cont]) % 2 == 0:\n",
        "            return cantidad+1\n",
        "        return cantidad\n",
        "    if int(caracter[cont]) % 2 == 0:\n",
        "        return Digitspar(caracter, cont+1, cantidad+1)\n",
        "    return Digitspar(caracter, cont+1, cantidad)\n",
        "\n",
        "print(\"Cantidad de dígitos:\", Digitspar(numero))"
      ]
    },
    {
      "cell_type": "markdown",
      "metadata": {
        "id": "L68v2AtH84JU"
      },
      "source": [
        "**Sumatoria inversiva y no inversiva**"
      ]
    },
    {
      "cell_type": "code",
      "execution_count": null,
      "metadata": {
        "colab": {
          "base_uri": "https://localhost:8080/"
        },
        "id": "P0BE8dod9ryg",
        "outputId": "3700eee1-2c8d-4963-a255-c65d03edc564"
      },
      "outputs": [
        {
          "name": "stdout",
          "output_type": "stream",
          "text": [
            "Número n: 5\n",
            "Número p: 5\n",
            "Sumatoria no-inversiva: 75\n",
            "Sumatoria inversiva: 3\n"
          ]
        }
      ],
      "source": [
        "iter = int(input(\"Número n: \"))\n",
        "numero = int(input(\"Número p: \"))\n",
        "\n",
        "# Sumatoria N * d\n",
        "def SumatoriaNoInv(n, p, contn=1):\n",
        "    if contn == n:\n",
        "        return n * p\n",
        "    return SumatoriaNoInv(n, p, contn+1) + contn*p\n",
        "\n",
        "# Sumatoria N / d\n",
        "def SumatoriaInv(n, p, contn=1):\n",
        "    if contn == n:\n",
        "        return n / p\n",
        "    return SumatoriaInv(n, p, contn+1) + contn / p\n",
        "\n",
        "print(\"Sumatoria no-inversiva:\", SumatoriaNoInv(iter, numero))\n",
        "print(\"Sumatoria inversiva:\", int(SumatoriaInv(iter, numero)))"
      ]
    },
    {
      "cell_type": "markdown",
      "metadata": {
        "id": "YVZZIWqn_bDI"
      },
      "source": [
        "**Asistentes para la vacuna contra el Covid-19**"
      ]
    },
    {
      "cell_type": "code",
      "execution_count": null,
      "metadata": {
        "colab": {
          "base_uri": "https://localhost:8080/"
        },
        "id": "LeJ1QiwG_l_A",
        "outputId": "4d7dabf6-74a0-489f-fc6f-be317f712ce2"
      },
      "outputs": [
        {
          "name": "stdout",
          "output_type": "stream",
          "text": [
            "Antes de ordenar:\n",
            "1: [43, 39, 23, 52, 21, 48, 31, 26, 55, 32]\n",
            "2: [51, 29, 47, 40, 32, 25, 31, 29, 51, 36]\n",
            "3: [30, 43, 52, 23, 37, 51, 29, 50, 26, 35]\n",
            "4: [36, 44, 49, 22, 44, 49, 55, 48, 52, 51]\n",
            "5: [32, 29, 43, 32, 32, 36, 22, 48, 38, 29]\n",
            "\n",
            "Después de ordenar:\n",
            "1: [55, 52, 48, 43, 39, 32, 31, 26, 23, 21]\n",
            "2: [51, 51, 47, 40, 36, 32, 31, 29, 29, 25]\n",
            "3: [52, 51, 50, 43, 37, 35, 30, 29, 26, 23]\n",
            "4: [55, 52, 51, 49, 49, 48, 44, 44, 36, 22]\n",
            "5: [48, 43, 38, 36, 32, 32, 32, 29, 29, 22]\n"
          ]
        }
      ],
      "source": [
        "def bubble_sortDesc(L):\n",
        "    n = len(L)\n",
        "    for limite in range(1, n):\n",
        "        for i in range(0, n -limite):\n",
        "            if L[i] < L[i+1]:\n",
        "                temp = L[i]\n",
        "                L[i] = L[i+1]\n",
        "                L[i+1] = temp\n",
        "    return L\n",
        "\n",
        "asistentes = {\n",
        "1: [43 , 39 , 23 , 52 , 21 , 48 , 31 , 26 , 55 , 32] ,\n",
        "2: [51 , 29 , 47 , 40 , 32 ,25 , 31 , 29 , 51 , 36] ,\n",
        "3: [30 , 43 , 52 , 23 , 37 , 51 , 29 , 50 , 26 , 35] ,\n",
        "4: [36 , 44 , 49 , 22 , 44 , 49 , 55 , 48 , 52 , 51] ,\n",
        "5: [32 , 29 , 43 , 32 , 32 , 36 , 22 , 48 , 38 , 29]\n",
        "}\n",
        "\n",
        "print(\"Antes de ordenar:\")\n",
        "for sala, lista in asistentes.items():\n",
        "    print(f\"{sala}: {lista}\")\n",
        "\n",
        "print(\"\\nDespués de ordenar:\")\n",
        "for sala, lista in asistentes.items():\n",
        "    print(f\"{sala}: {bubble_sortDesc(lista)}\")"
      ]
    },
    {
      "cell_type": "markdown",
      "metadata": {
        "id": "gtOZslsMB2Lk"
      },
      "source": [
        "**Serie recursiva**"
      ]
    },
    {
      "cell_type": "code",
      "execution_count": null,
      "metadata": {
        "colab": {
          "base_uri": "https://localhost:8080/"
        },
        "id": "F4v3WjEfB7Wf",
        "outputId": "94307825-628c-4753-d46b-89527a4bf52f"
      },
      "outputs": [
        {
          "name": "stdout",
          "output_type": "stream",
          "text": [
            "n: 3\n",
            "Suma resultante: 51\n",
            "\n",
            "Inicio: 2\n",
            "Fin: 10\n",
            "Lista resultante: [13, 32, 69, 130, 221, 348, 517, 734, 1005]\n"
          ]
        }
      ],
      "source": [
        "## Suma de N elementos\n",
        "\n",
        "num = int(input(\"n: \"))\n",
        "\n",
        "def sumaSerie(n, limit=1):\n",
        "    if limit == n:\n",
        "        return limit**3 +5\n",
        "    return sumaSerie(n, limit+1) + (limit**3 +5)\n",
        "\n",
        "print(\"Suma resultante:\", sumaSerie(num))\n",
        "\n",
        "## Lista de serie\n",
        "\n",
        "inicio = int(input(\"\\nInicio: \"))\n",
        "fin = int(input(\"Fin: \"))\n",
        "\n",
        "def listaSerie(lista, ind, fin):\n",
        "    if len(lista) == fin-1:\n",
        "        return lista\n",
        "    lista.append(ind**3 +5)\n",
        "    return listaSerie(lista, ind+1, fin)\n",
        "\n",
        "print(\"Lista resultante:\", listaSerie([], inicio, fin))"
      ]
    }
  ],
  "metadata": {
    "colab": {
      "collapsed_sections": [
        "o8Y-lHhOYHy8",
        "ku5u-_eBnnHc",
        "Q_D2h2bxPUTI",
        "-xBAH0QKRWYe"
      ],
      "name": "Ejercicios PC.ipynb",
      "provenance": []
    },
    "kernelspec": {
      "display_name": "Python 3",
      "name": "python3"
    },
    "language_info": {
      "codemirror_mode": {
        "name": "ipython",
        "version": 3
      },
      "file_extension": ".py",
      "mimetype": "text/x-python",
      "name": "python",
      "nbconvert_exporter": "python",
      "pygments_lexer": "ipython3",
      "version": "3.10.4"
    }
  },
  "nbformat": 4,
  "nbformat_minor": 0
}
